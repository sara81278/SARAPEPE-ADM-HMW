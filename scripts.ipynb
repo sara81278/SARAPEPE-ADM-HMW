{
 "cells": [
  {
   "cell_type": "markdown",
   "id": "37a0d787",
   "metadata": {},
   "source": [
    "#### Say \"Hello, World!\" With Python"
   ]
  },
  {
   "cell_type": "code",
   "execution_count": null,
   "id": "95eb31bc",
   "metadata": {},
   "outputs": [],
   "source": [
    "if __name__ == '__main__':\n",
    "    print(\"Hello, World!\")\n"
   ]
  },
  {
   "cell_type": "markdown",
   "id": "bb9734d3",
   "metadata": {},
   "source": [
    "#### Python If-Else"
   ]
  },
  {
   "cell_type": "code",
   "execution_count": null,
   "id": "4ef447f5",
   "metadata": {},
   "outputs": [],
   "source": [
    "#!/bin/python3\n",
    "\n",
    "import math\n",
    "import os\n",
    "import random\n",
    "import re\n",
    "import sys\n",
    "\n",
    "\n",
    "\n",
    "if __name__ == '__main__':\n",
    "    n = int(input().strip())\n",
    "    if(n%2 == 1):\n",
    "        print(\"Weird\")\n",
    "    elif(n%2 == 0 and n in range(2,5)):\n",
    "        print(\"Not Weird\")\n",
    "    elif(n%2 == 0 and n in range(6,21)):\n",
    "        print(\"Weird\")\n",
    "    else:\n",
    "        print(\"Not Weird\")\n"
   ]
  },
  {
   "cell_type": "markdown",
   "id": "6c63a6c0",
   "metadata": {},
   "source": [
    "#### Arithmetic Operators"
   ]
  },
  {
   "cell_type": "code",
   "execution_count": null,
   "id": "12fff20c",
   "metadata": {},
   "outputs": [],
   "source": [
    "if __name__ == '__main__':\n",
    "    a = int(input())\n",
    "    b = int(input())\n",
    "    print(a+b)\n",
    "    print(a-b)\n",
    "    print(a*b)\n"
   ]
  },
  {
   "cell_type": "markdown",
   "id": "a7ff5068",
   "metadata": {},
   "source": [
    "#### Python: Division"
   ]
  },
  {
   "cell_type": "code",
   "execution_count": null,
   "id": "7d91a1c3",
   "metadata": {},
   "outputs": [],
   "source": [
    "if __name__ == '__main__':\n",
    "    a = int(input())\n",
    "    b = int(input())\n",
    "    print(a//b)\n",
    "    print(a/b)\n"
   ]
  },
  {
   "cell_type": "markdown",
   "id": "9be54f46",
   "metadata": {},
   "source": [
    "#### Loops"
   ]
  },
  {
   "cell_type": "code",
   "execution_count": null,
   "id": "2f1885e1",
   "metadata": {},
   "outputs": [],
   "source": [
    "if __name__ == '__main__':\n",
    "    n = int(input())\n",
    "    for i in range(0,n):\n",
    "        print(i*i)\n"
   ]
  },
  {
   "cell_type": "markdown",
   "id": "bfc3e3da",
   "metadata": {},
   "source": [
    "#### Write a function"
   ]
  },
  {
   "cell_type": "code",
   "execution_count": null,
   "id": "072b2db5",
   "metadata": {},
   "outputs": [],
   "source": [
    "def is_leap(year):\n",
    "    leap = False\n",
    "    \n",
    "    if(year%4 == 0 and (year%400==0 or year%100!=0)):\n",
    "        leap = True\n",
    "    \n",
    "    return leap\n",
    "\n"
   ]
  },
  {
   "cell_type": "markdown",
   "id": "d71e5a94",
   "metadata": {},
   "source": [
    "#### Print Function"
   ]
  },
  {
   "cell_type": "code",
   "execution_count": null,
   "id": "d8e79d12",
   "metadata": {},
   "outputs": [],
   "source": [
    "if __name__ == '__main__':\n",
    "    n = int(input())\n",
    "    for i in range(1,n+1):\n",
    "        print(i, end = '')\n"
   ]
  },
  {
   "cell_type": "markdown",
   "id": "b1ce3656",
   "metadata": {},
   "source": [
    "#### List Comprehensions"
   ]
  },
  {
   "cell_type": "code",
   "execution_count": null,
   "id": "b91348d8",
   "metadata": {},
   "outputs": [],
   "source": [
    "if __name__ == '__main__':\n",
    "    x = int(input())\n",
    "    y = int(input())\n",
    "    z = int(input())\n",
    "    n = int(input())\n",
    "    \n",
    "    xlist= [i for i in range (0,x+1)]\n",
    "    ylist = [i for i in range (0,y+1)]\n",
    "    zlist = [i for i in range (0,z+1)]\n",
    "    a = [[i,k,j] for i in xlist for k in ylist for j in zlist if (i+k+j)!=n ]\n",
    "    print(a)\n"
   ]
  },
  {
   "cell_type": "markdown",
   "id": "2aef53ba",
   "metadata": {},
   "source": [
    "#### Find the Runner-Up Score!  "
   ]
  },
  {
   "cell_type": "code",
   "execution_count": null,
   "id": "a496c101",
   "metadata": {},
   "outputs": [],
   "source": [
    "if __name__ == '__main__':\n",
    "    n = int(input())\n",
    "    arr = map(int, input().split())\n",
    "    arrToList = list(arr)\n",
    "    y = max([i for i in arrToList if i != max(arrToList)])\n",
    "    print (y)\n"
   ]
  },
  {
   "cell_type": "markdown",
   "id": "c68bb4d8",
   "metadata": {},
   "source": [
    "#### Nested Lists"
   ]
  },
  {
   "cell_type": "code",
   "execution_count": null,
   "id": "5af0f5c2",
   "metadata": {},
   "outputs": [],
   "source": [
    "if __name__ == '__main__':\n",
    "    records = []\n",
    "    for _ in range(int(input())):\n",
    "        name = input()\n",
    "        score = float(input())\n",
    "        records.append([name, score])\n",
    "    lowestGrade=min(records, key = lambda x: x[1])[1]\n",
    "    records = [student for student in records if student[1]!=lowestGrade]\n",
    "    if(records):\n",
    "        lowestGrade = min(records, key = lambda x: x[1])[1]\n",
    "        records = [student for student in records if student[1] == lowestGrade]\n",
    "        records = sorted(records, key = lambda x: x[0])\n",
    "    for s in records:\n",
    "        print(s[0])\n"
   ]
  },
  {
   "cell_type": "markdown",
   "id": "dfc38311",
   "metadata": {},
   "source": [
    "#### Finding the percentage"
   ]
  },
  {
   "cell_type": "code",
   "execution_count": null,
   "id": "ef727603",
   "metadata": {},
   "outputs": [],
   "source": [
    "if __name__ == '__main__':\n",
    "    n = int(input())\n",
    "    student_marks = {}\n",
    "    for _ in range(n):\n",
    "        name, *line = input().split()\n",
    "        scores = list(map(float, line))\n",
    "        student_marks[name] = scores\n",
    "    query_name = input()\n",
    "    student = student_marks[query_name]\n",
    "    average = 0\n",
    "    if(len(student)>0):\n",
    "        average = sum(student)/len(student)\n",
    "    print(\"{:.2f}\".format(average))\n"
   ]
  },
  {
   "cell_type": "markdown",
   "id": "23250d7d",
   "metadata": {},
   "source": [
    "#### Lists"
   ]
  },
  {
   "cell_type": "code",
   "execution_count": null,
   "id": "9bb72bb0",
   "metadata": {},
   "outputs": [],
   "source": [
    "if __name__ == '__main__':\n",
    "    lista = []\n",
    "    commands = []\n",
    "    N = int(input())\n",
    "    for _ in range(0,N):\n",
    "        comm, *elements = input().split()\n",
    "        commands.append([comm, elements])\n",
    "        \n",
    "    for command, element in commands:\n",
    "        if(command == 'append'):\n",
    "            lista.append(int(*element))\n",
    "        elif(command == 'print'):\n",
    "            print(lista)\n",
    "        elif(command == 'remove'):\n",
    "            lista.remove(int(*element))\n",
    "        elif(command == 'insert'):\n",
    "            lista.insert(int(element[0]), int(element[1]))\n",
    "        elif(command == 'sort'):\n",
    "            lista.sort()\n",
    "        elif(command == 'pop'):\n",
    "            lista.pop()\n",
    "        elif(command == 'reverse'):\n",
    "            lista.reverse()\n"
   ]
  },
  {
   "cell_type": "markdown",
   "id": "6417d242",
   "metadata": {},
   "source": [
    "#### Tuples "
   ]
  },
  {
   "cell_type": "code",
   "execution_count": null,
   "id": "d39344a3",
   "metadata": {},
   "outputs": [],
   "source": [
    "if __name__ == '__main__':\n",
    "    n = int(input())\n",
    "    integer_list = map(int, input().split())\n",
    "    t = tuple(list(integer_list))\n",
    "    print(hash(t))\n"
   ]
  },
  {
   "cell_type": "markdown",
   "id": "fb0fe944",
   "metadata": {},
   "source": [
    "#### sWAP cASE"
   ]
  },
  {
   "cell_type": "code",
   "execution_count": null,
   "id": "0053a6f5",
   "metadata": {},
   "outputs": [],
   "source": [
    "def swap_case(s):\n",
    "    result = ''\n",
    "    for letter in s:\n",
    "        if(letter.isupper()):\n",
    "            result = result + letter.lower()\n",
    "        else:\n",
    "            result = result + letter.upper()\n",
    "    return result\n",
    "\n"
   ]
  },
  {
   "cell_type": "markdown",
   "id": "9e35d8c9",
   "metadata": {},
   "source": [
    "#### String Split and Join"
   ]
  },
  {
   "cell_type": "code",
   "execution_count": null,
   "id": "3b39ccb9",
   "metadata": {},
   "outputs": [],
   "source": [
    "\n",
    "\n",
    "def split_and_join(line):\n",
    "    line = line.split(\" \")\n",
    "    line = \"-\".join(line)\n",
    "    return line\n",
    "\n",
    "if __name__ == '__main__':\n",
    "    line = input()\n",
    "    result = split_and_join(line)\n",
    "    print(result)\n"
   ]
  },
  {
   "cell_type": "markdown",
   "id": "c98ff911",
   "metadata": {},
   "source": [
    "#### What's Your Name?"
   ]
  },
  {
   "cell_type": "code",
   "execution_count": null,
   "id": "fd85e937",
   "metadata": {},
   "outputs": [],
   "source": [
    "#\n",
    "# Complete the 'print_full_name' function below.\n",
    "#\n",
    "# The function is expected to return a STRING.\n",
    "# The function accepts following parameters:\n",
    "#  1. STRING first\n",
    "#  2. STRING last\n",
    "#\n",
    "\n",
    "def print_full_name(first, last):\n",
    "    print(\"Hello {} {}! You just delved into python.\".format(first,last))\n",
    "\n"
   ]
  },
  {
   "cell_type": "markdown",
   "id": "96495755",
   "metadata": {},
   "source": [
    "#### Mutations"
   ]
  },
  {
   "cell_type": "code",
   "execution_count": null,
   "id": "c9c45ed4",
   "metadata": {},
   "outputs": [],
   "source": [
    "def mutate_string(string, position, character):\n",
    "    string = string[:position] + character + string[position+1:]\n",
    "    return string\n",
    "\n"
   ]
  },
  {
   "cell_type": "markdown",
   "id": "221b0ed9",
   "metadata": {},
   "source": [
    "#### Find a string"
   ]
  },
  {
   "cell_type": "code",
   "execution_count": null,
   "id": "c864ff85",
   "metadata": {},
   "outputs": [],
   "source": [
    "##Here I could've just used string.count(sub_string),\n",
    "##but I think the purpose of the exercise it's not just\n",
    "##to use built-in functions, so I implemented the logic myself.\n",
    "def count_substring(string, sub_string):\n",
    "    stringLen = len(string)\n",
    "    subStringLen = len(sub_string)\n",
    "\n",
    "    count = sum([1 for i in range(0, stringLen-subStringLen+1)\n",
    "    if(string[i:subStringLen+i]==sub_string)])\n",
    "    \n",
    "    return count\n",
    "\n"
   ]
  },
  {
   "cell_type": "markdown",
   "id": "a0e11558",
   "metadata": {},
   "source": [
    "#### String Validators"
   ]
  },
  {
   "cell_type": "code",
   "execution_count": null,
   "id": "7d819a18",
   "metadata": {},
   "outputs": [],
   "source": [
    "def isanyalnum(s):\n",
    "    output = sum([1 for c in s if c.isalnum()])\n",
    "    return output>0\n",
    "\n",
    "def isanyalpha(s):\n",
    "    output = sum([1 for c in s if c.isalpha()])\n",
    "    return output>0\n",
    "\n",
    "def isanylower(s):\n",
    "    output = sum([1 for c in s if c.islower()])\n",
    "    return output>0\n",
    "\n",
    "def isanydigits(s):\n",
    "    output = sum([1 for c in s if c.isdigit()])\n",
    "    return output>0\n",
    "\n",
    "def isanyupper(s):\n",
    "    output = sum([1 for c in s if c.isupper()])\n",
    "    return output>0\n",
    "\n",
    "if __name__ == '__main__':\n",
    "    s = input()\n",
    "    print(isanyalnum(s))\n",
    "    print(isanyalpha(s))\n",
    "    print(isanydigits(s))\n",
    "    print(isanylower(s))\n",
    "    print(isanyupper(s))\n"
   ]
  },
  {
   "cell_type": "markdown",
   "id": "bf3b3c37",
   "metadata": {},
   "source": [
    "#### String Validators"
   ]
  },
  {
   "cell_type": "code",
   "execution_count": null,
   "id": "de554782",
   "metadata": {},
   "outputs": [],
   "source": [
    "def isanyalnum(s):\n",
    "    output = sum([1 for c in s if c.isalnum()])\n",
    "    return output>0\n",
    "\n",
    "def isanyalpha(s):\n",
    "    output = sum([1 for c in s if c.isalpha()])\n",
    "    return output>0\n",
    "\n",
    "def isanylower(s):\n",
    "    output = sum([1 for c in s if c.islower()])\n",
    "    return output>0\n",
    "\n",
    "def isanydigits(s):\n",
    "    output = sum([1 for c in s if c.isdigit()])\n",
    "    return output>0\n",
    "\n",
    "def isanyupper(s):\n",
    "    output = sum([1 for c in s if c.isupper()])\n",
    "    return output>0\n",
    "\n",
    "if __name__ == '__main__':\n",
    "    s = input()\n",
    "    print(isanyalnum(s))\n",
    "    print(isanyalpha(s))\n",
    "    print(isanydigits(s))\n",
    "    print(isanylower(s))\n",
    "    print(isanyupper(s))\n"
   ]
  },
  {
   "cell_type": "markdown",
   "id": "0a334a9a",
   "metadata": {},
   "source": [
    "#### Text Wrap"
   ]
  },
  {
   "cell_type": "code",
   "execution_count": null,
   "id": "c0d0ac52",
   "metadata": {},
   "outputs": [],
   "source": [
    "\n",
    "\n",
    "def wrap(string, max_width):\n",
    "    result = ''\n",
    "    for i in range(0, len(string), max_width):\n",
    "        result = result + string[i:i+max_width] + '\\n'\n",
    "    if(not result):\n",
    "        result = string\n",
    "    return result\n",
    "\n"
   ]
  },
  {
   "cell_type": "markdown",
   "id": "33ec89e6",
   "metadata": {},
   "source": [
    "#### String Formatting"
   ]
  },
  {
   "cell_type": "code",
   "execution_count": null,
   "id": "16845990",
   "metadata": {},
   "outputs": [],
   "source": [
    "def print_formatted(number):\n",
    "    l = len(format(n, 'b'))\n",
    "    for i in range(1,number+1):\n",
    "        print(str(i).rjust(l), format(i,'o').rjust(l), format(i,'X').upper().rjust(l),format(i,'b').rjust(l), sep=' ')\n",
    "\n"
   ]
  },
  {
   "cell_type": "markdown",
   "id": "d42bd4d4",
   "metadata": {},
   "source": [
    "#### Text Alignment"
   ]
  },
  {
   "cell_type": "code",
   "execution_count": null,
   "id": "c08a3db1",
   "metadata": {},
   "outputs": [],
   "source": [
    "# Enter your code here. Read input from STDIN. Print output to STDOUT\n",
    "n = int(input())\n",
    "\n",
    "print('\\n'.join([((2*k+1)*'H').center(2*n-1) for k in range(n)]))\n",
    "    \n",
    "print('\\n'.join([((n-1)//2)*' '+ (n*'H') + 3*n*' '+(n*'H') for k in range(n+1)]))\n",
    "\n",
    "print('\\n'.join([(((n-1)//2)*' '+(5*n)*'H') for k in range((n+1)//2)]))\n",
    "\n",
    "print('\\n'.join([((n-1)//2)*' '+ (n*'H') + 3*n*' '+(n*'H') for k in range(n+1)]))\n",
    "\n",
    "print('\\n'.join([((2*n-2*k-1)*'H').center(2*n-1).rjust(6*n-1) for k in range(n)]))\n"
   ]
  },
  {
   "cell_type": "markdown",
   "id": "46a67fd6",
   "metadata": {},
   "source": [
    "#### Capitalize!"
   ]
  },
  {
   "cell_type": "code",
   "execution_count": null,
   "id": "25036fa0",
   "metadata": {},
   "outputs": [],
   "source": [
    "\n",
    "\n",
    "# Complete the solve function below.\n",
    "def solve(s):\n",
    "    result = s[0].upper()\n",
    "    for i in range(0, len(s)-1):\n",
    "        if(s[i] == ' '):\n",
    "            result = result + s[i+1].upper()\n",
    "        else:\n",
    "            result = result + s[i+1]\n",
    "    return result\n",
    "\n"
   ]
  },
  {
   "cell_type": "markdown",
   "id": "2e07b8c6",
   "metadata": {},
   "source": [
    "#### The Minion Game"
   ]
  },
  {
   "cell_type": "code",
   "execution_count": null,
   "id": "ebd5c37a",
   "metadata": {},
   "outputs": [],
   "source": [
    "def minion_game(string):\n",
    "    cPoints = minion_game_consonant(string)\n",
    "    vPoints = minion_game_vowel(string)\n",
    "    if(cPoints == vPoints):\n",
    "        print('Draw')\n",
    "    else:\n",
    "        print(*max([('Stuart',cPoints),('Kevin', vPoints)],\n",
    "            key = lambda k: k[1]))\n",
    "\n",
    "def minion_game_consonant(string):\n",
    "    points = 0\n",
    "    for i in range(0,len(string)):\n",
    "        if(not (s[i].upper() in \"AEIOU\")):\n",
    "            points = points + len(string)-i\n",
    "    return points\n",
    "\n",
    "def minion_game_vowel(string):\n",
    "    points = 0\n",
    "    for i in range(0,len(string)):\n",
    "        if(s[i].upper() in \"AEIOU\"):\n",
    "            points = points + len(string)-i\n",
    "    return points\n",
    "\n"
   ]
  },
  {
   "cell_type": "markdown",
   "id": "9fee7a9a",
   "metadata": {},
   "source": [
    "#### Merge the Tools!"
   ]
  },
  {
   "cell_type": "code",
   "execution_count": null,
   "id": "3a04e5ec",
   "metadata": {},
   "outputs": [],
   "source": [
    "def merge_the_tools(string, k):\n",
    "    output = [rmDup(string[i:i+k]) for i in range (0, len(string),k)]\n",
    "    print(''.join(output))\n",
    "    \n",
    "    \n",
    "def rmDup(string):\n",
    "    output = ''\n",
    "    for s in string:\n",
    "        if (not s in output):\n",
    "            output = output + s\n",
    "    return output+'\\n'\n",
    "\n"
   ]
  },
  {
   "cell_type": "markdown",
   "id": "54ba4799",
   "metadata": {},
   "source": [
    "#### Designer Door Mat"
   ]
  },
  {
   "cell_type": "code",
   "execution_count": null,
   "id": "8ee5a2b5",
   "metadata": {},
   "outputs": [],
   "source": [
    "if __name__ == '__main__':\n",
    "    n,m = map(int,input().split())\n",
    "    pattern = '.|.'\n",
    "    i = 1\n",
    "    \n",
    "    for row in range((n-1)//2): \n",
    "        print((pattern*(row+i)).center(m,'-'))\n",
    "        i = i + 1\n",
    "        \n",
    "    print('WELCOME'.center(m,'-'))\n",
    "    \n",
    "    i = (n-1)//2 - 1\n",
    "    for row in range((n-1)//2,0,-1):   \n",
    "        print((pattern*(row+i)).center(m,'-'))\n",
    "        i = i-1\n"
   ]
  },
  {
   "cell_type": "markdown",
   "id": "e9c48f47",
   "metadata": {},
   "source": [
    "#### Alphabet Rangoli"
   ]
  },
  {
   "cell_type": "code",
   "execution_count": null,
   "id": "60c63dc0",
   "metadata": {},
   "outputs": [],
   "source": [
    "def print_rangoli(size):\n",
    "    for i in range(1,(size*2)):\n",
    "        alpha='abcdefghijklmnopqrstuvwxyz'\n",
    "        k = alpha[abs(size-i):size]\n",
    "        k = k[-1:0:-1] + k\n",
    "        print( '-'.join(k).center(4*size-3,'-'))\n",
    "\n"
   ]
  },
  {
   "cell_type": "markdown",
   "id": "0e6d8f0c",
   "metadata": {},
   "source": [
    "#### Calendar Module"
   ]
  },
  {
   "cell_type": "code",
   "execution_count": null,
   "id": "017d7cf3",
   "metadata": {},
   "outputs": [],
   "source": [
    "import calendar\n",
    "\n",
    "if __name__ == '__main__':\n",
    "    month, day, year = input().split()\n",
    "    c = calendar.weekday(int(year), int(month), int(day))\n",
    "    print((calendar.day_name[int(c)]).upper())\n"
   ]
  },
  {
   "cell_type": "markdown",
   "id": "f3466904",
   "metadata": {},
   "source": [
    "#### Time Delta"
   ]
  },
  {
   "cell_type": "code",
   "execution_count": null,
   "id": "84ed4598",
   "metadata": {},
   "outputs": [],
   "source": [
    "#!/bin/python3\n",
    "\n",
    "import math\n",
    "import os\n",
    "import random\n",
    "import re\n",
    "import sys\n",
    "from datetime import datetime\n",
    "\n",
    "# Complete the time_delta function below.\n",
    "def time_delta(t1, t2):\n",
    "    fmt = \"%a %d %b %Y %H:%M:%S %z\"\n",
    "    datetime1 = datetime.strptime(t1, fmt)\n",
    "    datetime2 = datetime.strptime(t2, fmt)\n",
    "    return abs(int((datetime1-datetime2).total_seconds()))\n",
    "\n",
    "if __name__ == '__main__':\n",
    "    fptr = open(os.environ['OUTPUT_PATH'], 'w')\n",
    "\n",
    "    t = int(input())\n",
    "\n",
    "    for t_itr in range(t):\n",
    "        t1 = input()\n",
    "\n",
    "        t2 = input()\n",
    "\n",
    "        delta = str(time_delta(t1, t2))\n",
    "\n",
    "        fptr.write(delta + '\\n')\n",
    "\n",
    "    fptr.close()\n"
   ]
  },
  {
   "cell_type": "markdown",
   "id": "c83fed8c",
   "metadata": {},
   "source": [
    "#### Introduction to Sets"
   ]
  },
  {
   "cell_type": "code",
   "execution_count": null,
   "id": "8fbb246d",
   "metadata": {},
   "outputs": [],
   "source": [
    "def average(array):\n",
    "    plantsSet = set(array)\n",
    "    distinctHeights = len(plantsSet)\n",
    "    distinctHeightsSum = sum(plantsSet)\n",
    "    return distinctHeightsSum/distinctHeights\n",
    "\n"
   ]
  },
  {
   "cell_type": "markdown",
   "id": "0b50b1b0",
   "metadata": {},
   "source": [
    "#### No Idea!"
   ]
  },
  {
   "cell_type": "code",
   "execution_count": null,
   "id": "230d984c",
   "metadata": {},
   "outputs": [],
   "source": [
    "# Enter your code here. Read input from STDIN. Print output to STDOUT\n",
    "\n",
    "def computeHappiness(array, likeSet, dislikeSet):\n",
    "    happiness = sum([1 for i in array if i in likeSet])\n",
    "    happiness = happiness - sum([1 for i in array if i in dislikeSet])\n",
    "    return happiness\n",
    "    \n",
    "if __name__ == '__main__':\n",
    "    n, m = input().split()\n",
    "    array = input().split()\n",
    "    likeSet = set(input().split())\n",
    "    dislikeSet = set(input().split())\n",
    "    print(computeHappiness(array, likeSet, dislikeSet))    \n"
   ]
  },
  {
   "cell_type": "markdown",
   "id": "4c6161da",
   "metadata": {},
   "source": [
    "#### Symmetric Difference"
   ]
  },
  {
   "cell_type": "code",
   "execution_count": null,
   "id": "12de4e80",
   "metadata": {},
   "outputs": [],
   "source": [
    "# Enter your code here. Read input from STDIN. Print output to STDOUT\n",
    "\n",
    "def getSimmetricDifference(mSet, nSet):\n",
    "    array = [int(i) for i in mSet if not(i in nSet)]\n",
    "    array.extend([int(j) for j in nSet if not(j in mSet)])\n",
    "    array.sort()\n",
    "    return '\\n'.join(list(map(str,array)))\n",
    "\n",
    "if __name__ == '__main__':\n",
    "    M = input()\n",
    "    mSet = set(input().split())\n",
    "    N = input()\n",
    "    nSet = set(input().split())\n",
    "    print(getSimmetricDifference(mSet, nSet))\n",
    "    \n"
   ]
  },
  {
   "cell_type": "markdown",
   "id": "f5474e98",
   "metadata": {},
   "source": [
    "#### Set .add() "
   ]
  },
  {
   "cell_type": "code",
   "execution_count": null,
   "id": "ebfc10b8",
   "metadata": {},
   "outputs": [],
   "source": [
    "if __name__ == '__main__':\n",
    "    N = int(input())\n",
    "    countryStamps = set()\n",
    "    for i in range(0, N):\n",
    "        countryStamps.add(input())\n",
    "    print(len(countryStamps))\n",
    "    \n"
   ]
  },
  {
   "cell_type": "markdown",
   "id": "bfcd4624",
   "metadata": {},
   "source": [
    "#### Set .discard(), .remove() & .pop()"
   ]
  },
  {
   "cell_type": "code",
   "execution_count": null,
   "id": "fef106e7",
   "metadata": {},
   "outputs": [],
   "source": [
    "n = int(input())\n",
    "s = set(map(int, input().split()))\n",
    "N = int(input())\n",
    "for i in range(0, N):\n",
    "    command, *el = input().split()\n",
    "    if(command == 'pop'):\n",
    "        s.pop()\n",
    "    if(command == 'discard'):\n",
    "        s.discard(int(*el))\n",
    "    if(command == 'remove'):\n",
    "        s.remove(int(*el))\n",
    "print(sum(s))\n"
   ]
  },
  {
   "cell_type": "markdown",
   "id": "08f1114a",
   "metadata": {},
   "source": [
    "#### Set .union() Operation"
   ]
  },
  {
   "cell_type": "code",
   "execution_count": null,
   "id": "036894a3",
   "metadata": {},
   "outputs": [],
   "source": [
    "# Enter your code here. Read input from STDIN. Print output to STDOUT\n",
    "\n",
    "if __name__ == '__main__':\n",
    "    N = input()\n",
    "    engStud = set(input().split())\n",
    "    B = input()\n",
    "    frStud = set(input().split())\n",
    "    \n",
    "    print(len(engStud.union(frStud)))\n"
   ]
  },
  {
   "cell_type": "markdown",
   "id": "e450abb9",
   "metadata": {},
   "source": [
    "#### Set .intersection() Operation"
   ]
  },
  {
   "cell_type": "code",
   "execution_count": null,
   "id": "ca211c69",
   "metadata": {},
   "outputs": [],
   "source": [
    "# Enter your code here. Read input from STDIN. Print output to STDOUT\n",
    "\n",
    "if __name__ == '__main__':\n",
    "    N = input()\n",
    "    engStud = set(input().split())\n",
    "    B = input()\n",
    "    frStud = set(input().split())\n",
    "    \n",
    "    print(len(engStud.intersection(frStud)))\n"
   ]
  },
  {
   "cell_type": "markdown",
   "id": "27f00a3e",
   "metadata": {},
   "source": [
    "#### Set .difference() Operation"
   ]
  },
  {
   "cell_type": "code",
   "execution_count": null,
   "id": "88eeec9d",
   "metadata": {},
   "outputs": [],
   "source": [
    "# Enter your code here. Read input from STDIN. Print output to STDOUT\n",
    "\n",
    "if __name__ == '__main__':\n",
    "    N = input()\n",
    "    engStud = set(input().split())\n",
    "    B = input()\n",
    "    frStud = set(input().split())\n",
    "    \n",
    "    print(len(engStud.difference(frStud)))\n"
   ]
  },
  {
   "cell_type": "markdown",
   "id": "bde53c82",
   "metadata": {},
   "source": [
    "#### Set .symmetric_difference() Operation"
   ]
  },
  {
   "cell_type": "code",
   "execution_count": null,
   "id": "6dc6798f",
   "metadata": {},
   "outputs": [],
   "source": [
    "# Enter your code here. Read input from STDIN. Print output to STDOUT\n",
    "\n",
    "if __name__ == '__main__':\n",
    "    N = input()\n",
    "    engStud = set(input().split())\n",
    "    B = input()\n",
    "    frStud = set(input().split())\n",
    "    \n",
    "    print(len(engStud.symmetric_difference(frStud)))\n"
   ]
  },
  {
   "cell_type": "markdown",
   "id": "da80bc3a",
   "metadata": {},
   "source": [
    "#### Set Mutations"
   ]
  },
  {
   "cell_type": "code",
   "execution_count": null,
   "id": "487daab4",
   "metadata": {},
   "outputs": [],
   "source": [
    "# Enter your code here. Read input from STDIN. Print output to STDOUT\n",
    "\n",
    "if __name__ == '__main__':\n",
    "    A = int(input())\n",
    "    aNum = set(map(int,input().split()))\n",
    "    N = int(input())\n",
    "    for i in range (0,N):\n",
    "        nOperation, nLen = input().split()\n",
    "        nNum = set(map(int,input().split()))\n",
    "        if(nOperation == 'update' or nOperation == '|='):\n",
    "            aNum.update(nNum)\n",
    "        elif (nOperation == 'intersection_update' or nOperation == '&='):\n",
    "            aNum.intersection_update(nNum)\n",
    "        elif (nOperation == 'difference_update' or nOperation == '-='):\n",
    "            aNum.difference_update(nNum)\n",
    "        elif (nOperation == 'symmetric_difference_update' or nOperation == '^='):\n",
    "            aNum.symmetric_difference_update(nNum)\n",
    "            \n",
    "    print(sum(aNum))\n",
    "    \n"
   ]
  },
  {
   "cell_type": "markdown",
   "id": "d6b31ed4",
   "metadata": {},
   "source": [
    "#### The Captain's Room "
   ]
  },
  {
   "cell_type": "code",
   "execution_count": null,
   "id": "fe93a990",
   "metadata": {},
   "outputs": [],
   "source": [
    "if __name__ == '__main__':\n",
    "    K = int(input())\n",
    "    roomNumbers = list(map(int, input().split()))\n",
    "    roomSet = set(roomNumbers)\n",
    "    for el in roomSet:\n",
    "        roomNumbers.remove(el)\n",
    "    print(*roomSet.difference(set(roomNumbers)))\n"
   ]
  },
  {
   "cell_type": "markdown",
   "id": "476ff99b",
   "metadata": {},
   "source": [
    "#### Check Subset"
   ]
  },
  {
   "cell_type": "code",
   "execution_count": null,
   "id": "6229856d",
   "metadata": {},
   "outputs": [],
   "source": [
    "# Enter your code here. Read input from STDIN. Print output to STDOUT\n",
    "\n",
    "if __name__ == '__main__':\n",
    "    T = int(input())\n",
    "    for i in range(0,T):\n",
    "        aSize = int(input())\n",
    "        aNumb = set(map(int, input().split()))\n",
    "        bSize = int(input())\n",
    "        bNumb = set(map(int, input().split()))\n",
    "        print(len(aNumb.difference(bNumb))==0)\n"
   ]
  },
  {
   "cell_type": "markdown",
   "id": "2d78916c",
   "metadata": {},
   "source": [
    "#### Check Strict Superset"
   ]
  },
  {
   "cell_type": "code",
   "execution_count": null,
   "id": "77348c27",
   "metadata": {},
   "outputs": [],
   "source": [
    "# Enter your code here. Read input from STDIN. Print output to STDOUT\n",
    "\n",
    "if __name__ == '__main__':\n",
    "    A = set(map(int, input().split()))\n",
    "    n = int(input())\n",
    "    output = True\n",
    "    for i in range(0,n):\n",
    "        subSet = set(map(int, input().split()))\n",
    "        isSubset = (len(subSet.difference(A))==0 \n",
    "            and len(A.difference(subSet))>0)\n",
    "        output = output and isSubset\n",
    "    print(output)\n"
   ]
  },
  {
   "cell_type": "markdown",
   "id": "61bbbfa0",
   "metadata": {},
   "source": [
    "#### collections.Counter()"
   ]
  },
  {
   "cell_type": "code",
   "execution_count": null,
   "id": "4bad0147",
   "metadata": {},
   "outputs": [],
   "source": [
    "from collections import Counter\n",
    "\n",
    "numberOfShoes = int(input())\n",
    "shoeSizes = Counter(map(int,input().split()))\n",
    "customersNumber = int(input())\n",
    "moneyEarned = 0\n",
    "for i in range (0,customersNumber):\n",
    "    shoeNumber, moneyPaied = map(int,input().split())\n",
    "    if(shoeSizes[shoeNumber]>0):\n",
    "        shoeSizes[shoeNumber] -= 1\n",
    "        moneyEarned += moneyPaied\n",
    "print(moneyEarned)\n"
   ]
  },
  {
   "cell_type": "markdown",
   "id": "9e78def1",
   "metadata": {},
   "source": [
    "#### Zipped!"
   ]
  },
  {
   "cell_type": "code",
   "execution_count": null,
   "id": "bcd84bb4",
   "metadata": {},
   "outputs": [],
   "source": [
    "studentNumber, sbjNumber = map(int, input().split())\n",
    "average = [] \n",
    "gradeList = []\n",
    "\n",
    "for i in range(0,sbjNumber):\n",
    "    gradeList.append(list(map(float,input().split())))\n",
    "\n",
    "for i in zip(*gradeList):\n",
    "    print(sum(i)/sbjNumber)\n"
   ]
  },
  {
   "cell_type": "markdown",
   "id": "5e66c0de",
   "metadata": {},
   "source": [
    "#### Athlete Sort"
   ]
  },
  {
   "cell_type": "code",
   "execution_count": null,
   "id": "cb6e24ce",
   "metadata": {},
   "outputs": [],
   "source": [
    "#!/bin/python3\n",
    "\n",
    "import math\n",
    "import os\n",
    "import random\n",
    "import re\n",
    "import sys\n",
    "\n",
    "\n",
    "\n",
    "if __name__ == '__main__':\n",
    "    nm = input().split()\n",
    "\n",
    "    n = int(nm[0])\n",
    "\n",
    "    m = int(nm[1])\n",
    "\n",
    "    arr = []\n",
    "\n",
    "    for _ in range(n):\n",
    "        arr.append(list(map(int, input().rstrip().split())))\n",
    "\n",
    "    k = int(input())\n",
    "    \n",
    "    arr = sorted(arr, key = lambda a: a[k])\n",
    "    for i in arr:\n",
    "        print(*i)\n"
   ]
  },
  {
   "cell_type": "markdown",
   "id": "85acbaf9",
   "metadata": {},
   "source": [
    "#### ginortS"
   ]
  },
  {
   "cell_type": "code",
   "execution_count": null,
   "id": "7c631a83",
   "metadata": {},
   "outputs": [],
   "source": [
    "# Enter your code here. Read input from STDIN. Print output to STDOUT\n",
    "\n",
    "def customSort(string):\n",
    "    outputList = []\n",
    "    evenDig = []\n",
    "    oddDig = []\n",
    "    lower = []\n",
    "    upper = []\n",
    "    \n",
    "    for c in string:\n",
    "        if(c.islower()):\n",
    "            lower.append(c)\n",
    "        if(c.isdigit()):\n",
    "            if(int(c)%2 == 0):\n",
    "                evenDig.append(c)\n",
    "            else:\n",
    "                oddDig.append(c)\n",
    "        if(c.isupper()):\n",
    "            upper.append(c)\n",
    "            \n",
    "    outputList.extend(sorted(lower))\n",
    "    outputList.extend(sorted(upper))\n",
    "    outputList.extend(sorted(oddDig))\n",
    "    outputList.extend(sorted(evenDig))\n",
    "    return ''.join(outputList)\n",
    "\n",
    "if __name__ == '__main__':\n",
    "    print(customSort(input()))    \n",
    "    \n"
   ]
  },
  {
   "cell_type": "markdown",
   "id": "f9e43708",
   "metadata": {},
   "source": [
    "#### Exceptions"
   ]
  },
  {
   "cell_type": "code",
   "execution_count": null,
   "id": "0aa489e6",
   "metadata": {},
   "outputs": [],
   "source": [
    "#code\n",
    "N = int(input())\n",
    "\n",
    "for i in range (0,N):\n",
    "    try:\n",
    "        a, b = map(int,input().split())\n",
    "        print(a//b)\n",
    "    except (ZeroDivisionError, ValueError) as e:\n",
    "        print (\"Error Code:\",e)\n"
   ]
  },
  {
   "cell_type": "markdown",
   "id": "772904fc",
   "metadata": {},
   "source": [
    "#### Map and Lambda Function"
   ]
  },
  {
   "cell_type": "code",
   "execution_count": null,
   "id": "505a5425",
   "metadata": {},
   "outputs": [],
   "source": [
    "cube = lambda x: x*x*x\n",
    "\n",
    "def fibonacci(n):\n",
    "    if n == 0:\n",
    "        return []\n",
    "    if n == 1:\n",
    "        return [0]\n",
    "    output = [0, 1]\n",
    "    for i in range(2,n):\n",
    "        output.append(output[i-1]+output[i-2])\n",
    "    return output\n",
    "        \n",
    "\n"
   ]
  },
  {
   "cell_type": "markdown",
   "id": "556c87cd",
   "metadata": {},
   "source": [
    "#### Standardize Mobile Number Using Decorators"
   ]
  },
  {
   "cell_type": "code",
   "execution_count": null,
   "id": "2d0e09c5",
   "metadata": {},
   "outputs": [],
   "source": [
    "def wrapper(f):\n",
    "    def fun(l):\n",
    "        output = []\n",
    "        for el in l:\n",
    "            i = 2\n",
    "            if(el[0] == '0'):\n",
    "                i = 1\n",
    "            elif(len(el)==10):\n",
    "                i = 0\n",
    "            output.append('+91 '+el[-10:-5]+' '+el[-5:])\n",
    "        return f(output)\n",
    "    return fun\n",
    "\n"
   ]
  },
  {
   "cell_type": "markdown",
   "id": "3fb81819",
   "metadata": {},
   "source": [
    "#### Decorators 2 - Name Directory"
   ]
  },
  {
   "cell_type": "code",
   "execution_count": null,
   "id": "d16fb5e1",
   "metadata": {},
   "outputs": [],
   "source": [
    "\n",
    "\n",
    "def person_lister(f):\n",
    "    def inner(people):\n",
    "        people = sorted(people, key = lambda x: int(x[2]))\n",
    "        outputList = list(map(f, people))\n",
    "        return outputList\n",
    "    return inner\n",
    "\n"
   ]
  },
  {
   "cell_type": "markdown",
   "id": "0186497d",
   "metadata": {},
   "source": [
    "#### XML 1 - Find the Score"
   ]
  },
  {
   "cell_type": "code",
   "execution_count": null,
   "id": "9d96c6ef",
   "metadata": {},
   "outputs": [],
   "source": [
    "\n",
    "\n",
    "def get_attr_number(node):\n",
    "    return sum(len(el.attrib) for el in root.iter())\n",
    "\n"
   ]
  },
  {
   "cell_type": "markdown",
   "id": "c35a8569",
   "metadata": {},
   "source": [
    "#### DefaultDict Tutorial"
   ]
  },
  {
   "cell_type": "code",
   "execution_count": null,
   "id": "e7753c0f",
   "metadata": {},
   "outputs": [],
   "source": [
    "from collections import defaultdict\n",
    "\n",
    "n, m = map(int, input().split())\n",
    "A = [input() for i in range (0,n)]\n",
    "B = [input() for i in range (0,m)]\n",
    "\n",
    "output = []\n",
    "for j in range(0,m):\n",
    "    output.append([i+1 for i in range (0,n) if A[i]==B[j]])\n",
    "    if(not len(output[j])):\n",
    "        output[j].append(-1)\n",
    "for el in output:\n",
    "    print(*el)\n"
   ]
  },
  {
   "cell_type": "markdown",
   "id": "30418ba1",
   "metadata": {},
   "source": [
    "#### DefaultDict Tutorial"
   ]
  },
  {
   "cell_type": "code",
   "execution_count": null,
   "id": "a75113a9",
   "metadata": {},
   "outputs": [],
   "source": [
    "from collections import defaultdict\n",
    "\n",
    "n, m = map(int, input().split())\n",
    "A = [input() for i in range (0,n)]\n",
    "B = [input() for i in range (0,m)]\n",
    "\n",
    "d = defaultdict(list)\n",
    "for i in range(0,n):\n",
    "    d[A[i]].append(i+1)\n",
    "\n",
    "for el in B:\n",
    "    if(len(d[el])):\n",
    "        print(*d[el])\n",
    "    else:\n",
    "        print(-1)\n",
    "    \n"
   ]
  },
  {
   "cell_type": "markdown",
   "id": "c0ab742c",
   "metadata": {},
   "source": [
    "#### Collections.namedtuple()"
   ]
  },
  {
   "cell_type": "code",
   "execution_count": null,
   "id": "7c8c1529",
   "metadata": {},
   "outputs": [],
   "source": [
    "from collections import namedtuple\n",
    "\n",
    "N = int(input())\n",
    "\n",
    "Student = namedtuple('Student', input().split())\n",
    "\n",
    "students = [Student(*input().split()) for i in range(0,N)]\n",
    "\n",
    "print(sum([int(el.MARKS) for el in students])/N)\n"
   ]
  },
  {
   "cell_type": "markdown",
   "id": "92fd59dd",
   "metadata": {},
   "source": [
    "#### Collections.OrderedDict()"
   ]
  },
  {
   "cell_type": "code",
   "execution_count": null,
   "id": "39c32e7b",
   "metadata": {},
   "outputs": [],
   "source": [
    "from collections import OrderedDict\n",
    "\n",
    "N = int(input())\n",
    "\n",
    "supermarketDic = OrderedDict()\n",
    "\n",
    "for i in range(0,N):\n",
    "    name, price = input().rsplit(maxsplit=1)\n",
    "    if(not(name in supermarketDic.keys())):\n",
    "        supermarketDic[name] = 0\n",
    "    supermarketDic[name] += int(price) \n",
    "\n",
    "for key in supermarketDic.keys():\n",
    "    print(key, supermarketDic[key], sep = ' ')\n"
   ]
  },
  {
   "cell_type": "markdown",
   "id": "96aa4842",
   "metadata": {},
   "source": [
    "#### Word Order"
   ]
  },
  {
   "cell_type": "code",
   "execution_count": null,
   "id": "2f22772e",
   "metadata": {},
   "outputs": [],
   "source": [
    "from collections import OrderedDict\n",
    "\n",
    "N = int(input())\n",
    "\n",
    "strings = OrderedDict()\n",
    "\n",
    "for i in range(0,N):\n",
    "    s = input()\n",
    "    if(not s in strings.keys()):\n",
    "        strings[s] = 0\n",
    "    strings[s] +=1\n",
    "\n",
    "print(len(strings))\n",
    "print(*strings.values(), sep=' ')\n"
   ]
  },
  {
   "cell_type": "markdown",
   "id": "c16a83ae",
   "metadata": {},
   "source": [
    "#### Collections.deque()"
   ]
  },
  {
   "cell_type": "code",
   "execution_count": null,
   "id": "a86b7ad0",
   "metadata": {},
   "outputs": [],
   "source": [
    "from collections import deque\n",
    "\n",
    "n = int(input())\n",
    "q = deque()\n",
    "\n",
    "for i in range(0,n):\n",
    "    com, *el = input().split()\n",
    "    if(com == 'append'):\n",
    "        q.append(int(*el))\n",
    "    elif(com == 'appendleft'):\n",
    "        q.appendleft(int(*el))\n",
    "    elif(com == 'pop'):\n",
    "        q.pop()\n",
    "    elif(com == 'popleft'):\n",
    "        q.popleft()\n",
    "print(*q, sep = ' ')\n"
   ]
  },
  {
   "cell_type": "markdown",
   "id": "29a0d637",
   "metadata": {},
   "source": [
    "#### Company Logo"
   ]
  },
  {
   "cell_type": "code",
   "execution_count": null,
   "id": "9e8baafe",
   "metadata": {},
   "outputs": [],
   "source": [
    "#!/bin/python3\n",
    "\n",
    "import math\n",
    "import os\n",
    "import random\n",
    "import re\n",
    "import sys\n",
    "from collections import Counter\n",
    "\n",
    "\n",
    "if __name__ == '__main__':\n",
    "    s = input()\n",
    "    sortedS = sorted([c for c in s])\n",
    "    counter = Counter(sortedS) \n",
    "    for letter, count in counter.most_common(3):\n",
    "        print(letter, count, sep = ' ')\n"
   ]
  },
  {
   "cell_type": "markdown",
   "id": "725ba5d2",
   "metadata": {},
   "source": [
    "#### Piling Up!"
   ]
  },
  {
   "cell_type": "code",
   "execution_count": null,
   "id": "760c27da",
   "metadata": {},
   "outputs": [],
   "source": [
    "from collections import deque\n",
    "\n",
    "T = int(input())\n",
    "\n",
    "for i in range(0, T):\n",
    "    k  = int(input())\n",
    "    b = deque([int(a) for a in input().split()])\n",
    "    res = []\n",
    "    while b:\n",
    "        if b[-1] >= b[0]:\n",
    "            res.append(b.pop())\n",
    "        else:\n",
    "            res.append(b.popleft())\n",
    "    sortedRes = sorted(res,reverse=True)\n",
    "    if res == sortedRes:\n",
    "        print('Yes')\n",
    "    else:\n",
    "        print('No')\n"
   ]
  },
  {
   "cell_type": "markdown",
   "id": "3c9d23a0",
   "metadata": {},
   "source": [
    "#### Arrays"
   ]
  },
  {
   "cell_type": "code",
   "execution_count": null,
   "id": "33a1b38d",
   "metadata": {},
   "outputs": [],
   "source": [
    "\n",
    "\n",
    "def arrays(arr):\n",
    "   return numpy.flip(numpy.array(arr, float))\n",
    "   \n"
   ]
  },
  {
   "cell_type": "markdown",
   "id": "78a887f5",
   "metadata": {},
   "source": [
    "#### Shape and Reshape"
   ]
  },
  {
   "cell_type": "code",
   "execution_count": null,
   "id": "e42e3129",
   "metadata": {},
   "outputs": [],
   "source": [
    "import numpy\n",
    "\n",
    "numberArr = numpy.array(input().split(),int)\n",
    "numberArr.shape = (3,3)\n",
    "print(numberArr)\n"
   ]
  },
  {
   "cell_type": "markdown",
   "id": "80010844",
   "metadata": {},
   "source": [
    "#### Transpose and Flatten"
   ]
  },
  {
   "cell_type": "code",
   "execution_count": null,
   "id": "4ef2c4df",
   "metadata": {},
   "outputs": [],
   "source": [
    "import numpy\n",
    "\n",
    "N, M = input().split()\n",
    "arr = numpy.array([list(map(int,input().split())) for i in range (0,int(N))])\n",
    "print(numpy.transpose(arr))\n",
    "print(arr.flatten())\n"
   ]
  },
  {
   "cell_type": "markdown",
   "id": "701de43f",
   "metadata": {},
   "source": [
    "#### Concatenate"
   ]
  },
  {
   "cell_type": "code",
   "execution_count": null,
   "id": "20e7b8aa",
   "metadata": {},
   "outputs": [],
   "source": [
    "import numpy\n",
    "\n",
    "N, M, P = input().split()\n",
    "array_1 = numpy.array([list(map(int, input().split())) for _ in range (0,int(N))])\n",
    "array_2 = numpy.array([list(map(int, input().split())) for _ in range (0,int(M))])\n",
    "print(numpy.concatenate((array_1, array_2)))\n"
   ]
  },
  {
   "cell_type": "markdown",
   "id": "8eb35c76",
   "metadata": {},
   "source": [
    "#### Zeros and Ones"
   ]
  },
  {
   "cell_type": "code",
   "execution_count": null,
   "id": "dea22ca3",
   "metadata": {},
   "outputs": [],
   "source": [
    "import numpy\n",
    "\n",
    "dim = list(map(int,input().split()))\n",
    "print(numpy.zeros((dim), dtype=numpy.int))\n",
    "print(numpy.ones((dim), dtype=numpy.int))\n"
   ]
  },
  {
   "cell_type": "markdown",
   "id": "6ceb5f55",
   "metadata": {},
   "source": [
    "#### Eye and Identity"
   ]
  },
  {
   "cell_type": "code",
   "execution_count": null,
   "id": "d3bd738b",
   "metadata": {},
   "outputs": [],
   "source": [
    "import numpy\n",
    "\n",
    "numpy.set_printoptions(legacy='1.13')\n",
    "\n",
    "N, M = input().split()\n",
    "\n",
    "print(numpy.eye(int(N), int(M), k=0))\n"
   ]
  },
  {
   "cell_type": "markdown",
   "id": "d6e493c0",
   "metadata": {},
   "source": [
    "#### Array Mathematics"
   ]
  },
  {
   "cell_type": "code",
   "execution_count": null,
   "id": "a5d91935",
   "metadata": {},
   "outputs": [],
   "source": [
    "import numpy\n",
    "\n",
    "N, M = input().split()\n",
    "\n",
    "a = numpy.array([list(map(int, input().split())) for i in range (0,int(N))])\n",
    "b = numpy.array([list(map(int, input().split())) for i in range (0,int(N))])\n",
    "\n",
    "print(numpy.add(a, b))\n",
    "print(numpy.subtract(a,b))\n",
    "print(numpy.multiply(a,b))\n",
    "print(a//b)\n",
    "print(a%b)\n",
    "print(a**b)\n"
   ]
  },
  {
   "cell_type": "markdown",
   "id": "7c5d4ed7",
   "metadata": {},
   "source": [
    "#### Floor, Ceil and Rint"
   ]
  },
  {
   "cell_type": "code",
   "execution_count": null,
   "id": "5ba18180",
   "metadata": {},
   "outputs": [],
   "source": [
    "import numpy\n",
    "numpy.set_printoptions(legacy='1.13')\n",
    "\n",
    "arr = numpy.array(list(map(float, input().split())), float)\n",
    "print(numpy.floor(arr))\n",
    "print(numpy.ceil(arr))\n",
    "print(numpy.rint(arr))\n"
   ]
  },
  {
   "cell_type": "markdown",
   "id": "426a439c",
   "metadata": {},
   "source": [
    "#### Min and Max"
   ]
  },
  {
   "cell_type": "code",
   "execution_count": null,
   "id": "63e4c811",
   "metadata": {},
   "outputs": [],
   "source": [
    "import numpy\n",
    "\n",
    "N, M = input().split()\n",
    "\n",
    "arr = numpy.array([list(map(int, input().split())) for i in range (0,int(N))])\n",
    "\n",
    "print(numpy.max(numpy.min(arr, axis=1)))\n"
   ]
  },
  {
   "cell_type": "markdown",
   "id": "a770ac55",
   "metadata": {},
   "source": [
    "#### Sum and Prod"
   ]
  },
  {
   "cell_type": "code",
   "execution_count": null,
   "id": "9d69a009",
   "metadata": {},
   "outputs": [],
   "source": [
    "import numpy\n",
    "\n",
    "N, M = input().split()\n",
    "\n",
    "arr = numpy.array([list(map(int, input().split())) for i in range (0,int(N))])\n",
    "\n",
    "print(numpy.prod(numpy.sum(arr, axis=0)))\n"
   ]
  },
  {
   "cell_type": "markdown",
   "id": "fec4e705",
   "metadata": {},
   "source": [
    "#### Mean, Var, and Std"
   ]
  },
  {
   "cell_type": "code",
   "execution_count": null,
   "id": "5ea59c96",
   "metadata": {},
   "outputs": [],
   "source": [
    "import numpy\n",
    "\n",
    "N, M = input().split()\n",
    "arr = numpy.array([list(map(int, input().split())) for i in range(0,int(N))])\n",
    "print(numpy.mean(arr, axis=1))\n",
    "print(numpy.var(arr, axis= 0))\n",
    "print(round(numpy.std(arr),11))\n"
   ]
  },
  {
   "cell_type": "markdown",
   "id": "78377270",
   "metadata": {},
   "source": [
    "#### Dot and Cross"
   ]
  },
  {
   "cell_type": "code",
   "execution_count": null,
   "id": "ba5a4793",
   "metadata": {},
   "outputs": [],
   "source": [
    "import numpy\n",
    "\n",
    "N = int(input())\n",
    "A = numpy.array([list(map(int, input().split())) for i in range (0,N)])\n",
    "B = numpy.array([list(map(int, input().split())) for i in range (0,N)])\n",
    "\n",
    "print(numpy.dot(A, B))\n",
    "\n"
   ]
  },
  {
   "cell_type": "markdown",
   "id": "cbfc6054",
   "metadata": {},
   "source": [
    "#### Inner and Outer"
   ]
  },
  {
   "cell_type": "code",
   "execution_count": null,
   "id": "a1c72691",
   "metadata": {},
   "outputs": [],
   "source": [
    "import numpy\n",
    "\n",
    "A = numpy.array(list(map(int, input().split())))\n",
    "B = numpy.array(list(map(int, input().split())))\n",
    "\n",
    "print(numpy.inner(A,B))\n",
    "print(numpy.outer(A,B))\n"
   ]
  },
  {
   "cell_type": "markdown",
   "id": "642b6c08",
   "metadata": {},
   "source": [
    "#### Linear Algebra"
   ]
  },
  {
   "cell_type": "code",
   "execution_count": null,
   "id": "e826e91f",
   "metadata": {},
   "outputs": [],
   "source": [
    "import numpy\n",
    "\n",
    "N = int(input())\n",
    "arr = numpy.array([list(map(float, input().split())) for i in range(0,N)], float)\n",
    "print(round(numpy.linalg.det(arr),11))\n"
   ]
  },
  {
   "cell_type": "markdown",
   "id": "b7bfba8f",
   "metadata": {},
   "source": [
    "#### Polynomials"
   ]
  },
  {
   "cell_type": "code",
   "execution_count": null,
   "id": "1b2fb427",
   "metadata": {},
   "outputs": [],
   "source": [
    "import numpy\n",
    "\n",
    "print(numpy.polyval(numpy.array(list(map(float, input().split())),float),int(input())))\n"
   ]
  },
  {
   "cell_type": "markdown",
   "id": "b986129d",
   "metadata": {},
   "source": [
    "#### Detect Floating Point Number"
   ]
  },
  {
   "cell_type": "code",
   "execution_count": null,
   "id": "4a00c62b",
   "metadata": {},
   "outputs": [],
   "source": [
    "import re\n",
    "\n",
    "T = int(input())\n",
    "regex = '^[+-]?[0-9]*\\.[0-9]+$'\n",
    "print(*[re.match(regex, input())!=None for i in range(0,T)], sep = '\\n')\n"
   ]
  },
  {
   "cell_type": "markdown",
   "id": "ce56ba26",
   "metadata": {},
   "source": [
    "#### Re.split()"
   ]
  },
  {
   "cell_type": "code",
   "execution_count": null,
   "id": "86db0e77",
   "metadata": {},
   "outputs": [],
   "source": [
    "regex_pattern = r\"[.,]\"\t# Do not delete 'r'.\n",
    "\n"
   ]
  },
  {
   "cell_type": "markdown",
   "id": "604f4feb",
   "metadata": {},
   "source": [
    "#### Group(), Groups() & Groupdict()"
   ]
  },
  {
   "cell_type": "code",
   "execution_count": null,
   "id": "5f0623db",
   "metadata": {},
   "outputs": [],
   "source": [
    "import re\n",
    "\n",
    "S = input()\n",
    "res = re.search(r\"([A-Za-z0-9])\\1\", S)\n",
    "print(res.group()[0] if res else '-1')\n"
   ]
  },
  {
   "cell_type": "markdown",
   "id": "10bb7d9b",
   "metadata": {},
   "source": [
    "#### Re.findall() & Re.finditer()"
   ]
  },
  {
   "cell_type": "code",
   "execution_count": null,
   "id": "5b27c3fe",
   "metadata": {},
   "outputs": [],
   "source": [
    "import re\n",
    "\n",
    "S = input()\n",
    "matches = re.findall(r\"(?<=[^aeiou])([aeiou]{2,})(?=[^aeiou])\", S, flags=re.IGNORECASE)\n",
    "print(*[m for m in matches] if matches else [-1], sep = '\\n')\n"
   ]
  },
  {
   "cell_type": "markdown",
   "id": "91a959cf",
   "metadata": {},
   "source": [
    "#### Re.start() & Re.end()"
   ]
  },
  {
   "cell_type": "code",
   "execution_count": null,
   "id": "55e19809",
   "metadata": {},
   "outputs": [],
   "source": [
    "import re\n",
    "\n",
    "S = input()\n",
    "k = input()\n",
    "\n",
    "pattern = re.compile(k)\n",
    "output = pattern.search(S)\n",
    "if not output: \n",
    "    print(\"(-1, -1)\")\n",
    "else:\n",
    "    while output:\n",
    "        print(f\"({output.start()}, {output.end()-1})\")\n",
    "        output = pattern.search(S,output.start() + 1)\n"
   ]
  },
  {
   "cell_type": "markdown",
   "id": "ffadb8de",
   "metadata": {},
   "source": [
    "#### Regex Substitution"
   ]
  },
  {
   "cell_type": "code",
   "execution_count": null,
   "id": "36dc7e4a",
   "metadata": {},
   "outputs": [],
   "source": [
    "import re\n",
    "N = int(input())\n",
    "for i in range(N):\n",
    "    txt = input()\n",
    "    s = re.sub(r'(?<=\\s)&&(?=\\s)',\"and\", txt)\n",
    "    print(re.sub(r'(?<=\\s)\\|\\|(?=\\s)',\"or\",s))\n"
   ]
  },
  {
   "cell_type": "markdown",
   "id": "195fcff1",
   "metadata": {},
   "source": [
    "#### Validating Roman Numerals"
   ]
  },
  {
   "cell_type": "code",
   "execution_count": null,
   "id": "84067bf8",
   "metadata": {},
   "outputs": [],
   "source": [
    "regex_pattern = r\"^(?=[MDCLXVI])M{0,3}(C[MD]|D?C{0,3})(X[CL]|L?X{0,3})(I[XV]|V?I{0,3})$\"    \n",
    "\n"
   ]
  },
  {
   "cell_type": "markdown",
   "id": "0f0e9b02",
   "metadata": {},
   "source": [
    "#### Validating phone numbers"
   ]
  },
  {
   "cell_type": "code",
   "execution_count": null,
   "id": "f4932223",
   "metadata": {},
   "outputs": [],
   "source": [
    "import re\n",
    "\n",
    "N = int(input())\n",
    "for i in range(0,N):\n",
    "    string = input()\n",
    "    print(\"YES\" if re.search(r\"^[789]{1}[0-9$]{9}$\",string) else \"NO\")\n"
   ]
  },
  {
   "cell_type": "markdown",
   "id": "984ffade",
   "metadata": {},
   "source": [
    "#### XML2 - Find the Maximum Depth"
   ]
  },
  {
   "cell_type": "code",
   "execution_count": null,
   "id": "51a728f8",
   "metadata": {},
   "outputs": [],
   "source": [
    "\n",
    "\n",
    "maxdepth = 0\n",
    "def depth(elem, level):\n",
    "    global maxdepth\n",
    "    if (level == maxdepth):\n",
    "        maxdepth += 1\n",
    "    for child in elem:\n",
    "        depth(child, level + 1) \n",
    "        \n"
   ]
  },
  {
   "cell_type": "markdown",
   "id": "36b5dad1",
   "metadata": {},
   "source": [
    "#### XML2 - Find the Maximum Depth"
   ]
  },
  {
   "cell_type": "code",
   "execution_count": null,
   "id": "091a2a25",
   "metadata": {},
   "outputs": [],
   "source": [
    "\n",
    "\n",
    "maxdepth = 0\n",
    "def depth(elem, level):\n",
    "    global maxdepth\n",
    "    if (level == maxdepth):\n",
    "        maxdepth += 1\n",
    "    for el in elem:\n",
    "        depth(el, level + 1) \n",
    "        \n"
   ]
  },
  {
   "cell_type": "markdown",
   "id": "9f405a97",
   "metadata": {},
   "source": [
    "#### Validating and Parsing Email Addresses"
   ]
  },
  {
   "cell_type": "code",
   "execution_count": null,
   "id": "856f608d",
   "metadata": {},
   "outputs": [],
   "source": [
    "import email.utils\n",
    "import re\n",
    "\n",
    "pattern = r\"^[A-Za-z].+[\\@]{1}([A-Za-z])+[\\.]{1}[a-z]{1,3}$\"\n",
    "\n",
    "n = int(input())\n",
    "for i in range(0,n):\n",
    "    inp = input()\n",
    "    r = re.search(pattern, email.utils.parseaddr(inp)[1])\n",
    "    if r:\n",
    "        print(inp)\n"
   ]
  },
  {
   "cell_type": "markdown",
   "id": "13cb0d9f",
   "metadata": {},
   "source": [
    "#### Hex Color Code"
   ]
  },
  {
   "cell_type": "code",
   "execution_count": null,
   "id": "a0bfd6de",
   "metadata": {},
   "outputs": [],
   "source": [
    "import re\n",
    "\n",
    "\n",
    "pattern = re.compile(r\"[\\s:](#(?:[0-9A-Fa-f]{3}){1,2})\")\n",
    "n = int(input())\n",
    "\n",
    "for i in range(n):\n",
    "    s = input()\n",
    "    colourCodes = pattern.findall(s)\n",
    "    for colour in colourCodes:\n",
    "        print(colour)\n",
    "   \n"
   ]
  },
  {
   "cell_type": "markdown",
   "id": "c983e23b",
   "metadata": {},
   "source": [
    "#### HTML Parser - Part 1"
   ]
  },
  {
   "cell_type": "code",
   "execution_count": null,
   "id": "eb6d1cd6",
   "metadata": {},
   "outputs": [],
   "source": [
    "from html.parser import HTMLParser\n",
    "\n",
    "class MyHTMLParser(HTMLParser):\n",
    "    def handle_starttag(self, tag, attrs):\n",
    "        print(\"Start :\", tag)\n",
    "        if attrs:\n",
    "            for val in attrs:\n",
    "                print(\"->\",val[0],\">\",val[1])\n",
    "    def handle_endtag(self, tag):\n",
    "        print(\"End   :\", tag)\n",
    "    def handle_startendtag(self, tag, attrs):\n",
    "        print(\"Empty :\", tag)\n",
    "        if attrs:\n",
    "            for val in attrs:\n",
    "                print(\"->\",val[0],\">\",val[1])\n",
    "                \n",
    "parser = MyHTMLParser()\n",
    "n = int(input())\n",
    "if n >= 1:\n",
    "    res = ''.join(input().strip() for _ in range(n))\n",
    "parser.feed(res)\n"
   ]
  },
  {
   "cell_type": "markdown",
   "id": "75803c2e",
   "metadata": {},
   "source": [
    "#### HTML Parser - Part 2"
   ]
  },
  {
   "cell_type": "code",
   "execution_count": null,
   "id": "9c65ee90",
   "metadata": {},
   "outputs": [],
   "source": [
    "from html.parser import HTMLParser\n",
    "\n",
    "class HT(HTMLParser):\n",
    "    def handle_comment(self, data):\n",
    "        if '\\n' in data:\n",
    "            print ('>>> Multi-line Comment')\n",
    "        else:\n",
    "            print('>>> Single-line Comment')\n",
    "        print (data)\n",
    "        \n",
    "    def handle_data(self, data):\n",
    "        if data !='\\n':\n",
    "            print('>>> Data')\n",
    "            print(data)\n",
    "  \n",
    "html = \"\"       \n",
    "for i in range(int(input())):\n",
    "    html += input().rstrip()\n",
    "    html += '\\n'\n",
    "    \n",
    "parser = HT()\n",
    "parser.feed(html)\n",
    "parser.close()\n"
   ]
  },
  {
   "cell_type": "markdown",
   "id": "12d010ee",
   "metadata": {},
   "source": [
    "#### Detect HTML Tags, Attributes and Attribute Values"
   ]
  },
  {
   "cell_type": "code",
   "execution_count": null,
   "id": "4bf525f2",
   "metadata": {},
   "outputs": [],
   "source": [
    "from html.parser import HTMLParser\n",
    "\n",
    "class MyHTMLParser(HTMLParser):\n",
    "    def handle_starttag(self, tag, attrs):\n",
    "        print(tag)\n",
    "        \n",
    "        for elem in attrs:\n",
    "            print(\"->\", elem[0], \">\", elem[1])\n",
    "     \n",
    "    \n",
    "parser = MyHTMLParser()\n",
    "for _ in range(int(input())):\n",
    "    parser.feed(input())\n"
   ]
  },
  {
   "cell_type": "markdown",
   "id": "6274ed77",
   "metadata": {},
   "source": [
    "#### Validating UID "
   ]
  },
  {
   "cell_type": "code",
   "execution_count": null,
   "id": "5aec8445",
   "metadata": {},
   "outputs": [],
   "source": [
    "import re\n",
    "\n",
    "n = int(input())\n",
    "for _ in range(n):\n",
    "    uid = input()\n",
    "    \n",
    "    digit = re.findall(r'\\d', uid)\n",
    "    alpha = re.findall(r'[A-Z]', uid)\n",
    "    special = re.findall(r'[@_!#$%^&*()<>?/\\|}{~:]', uid)\n",
    "    \n",
    "    if (len(alpha) < 3 or\n",
    "        len(digit) < 3 or\n",
    "        len(special) > 0 or\n",
    "        len(set(uid)) != 10 or\n",
    "        len(uid) != 10):\n",
    "        print('Invalid')\n",
    "    else:\n",
    "        print('Valid')\n",
    "        \n"
   ]
  },
  {
   "cell_type": "markdown",
   "id": "bfe24457",
   "metadata": {},
   "source": [
    "#### Validating Credit Card Numbers"
   ]
  },
  {
   "cell_type": "code",
   "execution_count": null,
   "id": "0157242a",
   "metadata": {},
   "outputs": [],
   "source": [
    "import re\n",
    "\n",
    "for _ in range(int(input())):\n",
    "    card = input()\n",
    "    try:\n",
    "        assert re.search(r'^[456]', card)\n",
    "        assert re.search(r'^(-?\\d{4}){4}$', card)\n",
    "        assert not re.search(r'(\\d)(-?\\1){3}', card)\n",
    "    except:\n",
    "        print('Invalid')\n",
    "    else:\n",
    "        print('Valid')\n"
   ]
  },
  {
   "cell_type": "markdown",
   "id": "cf50eaf8",
   "metadata": {},
   "source": [
    "#### Validating Postal Codes"
   ]
  },
  {
   "cell_type": "code",
   "execution_count": null,
   "id": "9c267d33",
   "metadata": {},
   "outputs": [],
   "source": [
    "regex_integer_in_range = r\"^[1-9]\\d{5}$\"\t# Do not delete 'r'.\n",
    "regex_alternating_repetitive_digit_pair = r\"(?=(\\d).\\1)\"\t# Do not delete 'r'.\n",
    "\n"
   ]
  },
  {
   "cell_type": "markdown",
   "id": "f57977bc",
   "metadata": {},
   "source": [
    "#### Matrix Script"
   ]
  },
  {
   "cell_type": "code",
   "execution_count": null,
   "id": "446eb177",
   "metadata": {},
   "outputs": [],
   "source": [
    "#!/bin/python3\n",
    "\n",
    "import math\n",
    "import os\n",
    "import random\n",
    "import re\n",
    "import sys\n",
    "\n",
    "\n",
    "\n",
    "\n",
    "first_multiple_input = input().rstrip().split()\n",
    "\n",
    "n = int(first_multiple_input[0])\n",
    "\n",
    "m = int(first_multiple_input[1])\n",
    "\n",
    "matrix = []\n",
    "\n",
    "for _ in range(n):\n",
    "    matrix_item = input()\n",
    "    matrix.append(matrix_item)\n",
    "\n",
    "res = ''\n",
    "\n",
    "for i in range(m):\n",
    "    s = ''.join([row[i] for row in matrix])\n",
    "    s = re.sub('(?<=[0-9a-zA-Z])+[^0-9a-zA-Z]+(?=[0-9a-zA-Z])', ' ', s)\n",
    "    res += s\n",
    "res = re.sub('(?<=[0-9a-zA-Z])+[^0-9a-zA-Z]+(?=[0-9a-zA-Z])', ' ', res)\n",
    "print(res)\n"
   ]
  },
  {
   "cell_type": "markdown",
   "id": "3e9545e5",
   "metadata": {},
   "source": [
    "#### Birthday Cake Candles"
   ]
  },
  {
   "cell_type": "code",
   "execution_count": null,
   "id": "61c41b60",
   "metadata": {},
   "outputs": [],
   "source": [
    "#!/bin/python3\n",
    "\n",
    "import math\n",
    "import os\n",
    "import random\n",
    "import re\n",
    "import sys\n",
    "\n",
    "#\n",
    "# Complete the 'birthdayCakeCandles' function below.\n",
    "#\n",
    "# The function is expected to return an INTEGER.\n",
    "# The function accepts INTEGER_ARRAY candles as parameter.\n",
    "#\n",
    "\n",
    "def birthdayCakeCandles(candles):\n",
    "    tallestCandle = max(candles)\n",
    "    return sum([1 for candle in candles if candle == tallestCandle])\n",
    "\n",
    "if __name__ == '__main__':\n",
    "    fptr = open(os.environ['OUTPUT_PATH'], 'w')\n",
    "\n",
    "    candles_count = int(input().strip())\n",
    "\n",
    "    candles = list(map(int, input().rstrip().split()))\n",
    "\n",
    "    result = birthdayCakeCandles(candles)\n",
    "\n",
    "    fptr.write(str(result) + '\\n')\n",
    "\n",
    "    fptr.close()\n"
   ]
  },
  {
   "cell_type": "markdown",
   "id": "6363bfef",
   "metadata": {},
   "source": [
    "#### Number Line Jumps"
   ]
  },
  {
   "cell_type": "code",
   "execution_count": null,
   "id": "42843155",
   "metadata": {},
   "outputs": [],
   "source": [
    "#!/bin/python3\n",
    "\n",
    "import math\n",
    "import os\n",
    "import random\n",
    "import re\n",
    "import sys\n",
    "\n",
    "#\n",
    "# Complete the 'kangaroo' function below.\n",
    "#\n",
    "# The function is expected to return a STRING.\n",
    "# The function accepts following parameters:\n",
    "#  1. INTEGER x1\n",
    "#  2. INTEGER v1\n",
    "#  3. INTEGER x2\n",
    "#  4. INTEGER v2\n",
    "#\n",
    "\n",
    "def kangaroo(x1, v1, x2, v2):\n",
    "    distanceAtJumpX1 = x1+v1\n",
    "    distanceAtJumpX2 = x2+v2\n",
    "    distanceBetweenTwo = abs(distanceAtJumpX1-distanceAtJumpX2)\n",
    "    \n",
    "    if(distanceBetweenTwo == 0):\n",
    "        return \"YES\"\n",
    "    \n",
    "    for i in range(0,distanceBetweenTwo):\n",
    "        distanceAtJumpX1 += v1\n",
    "        distanceAtJumpX2 += v2\n",
    "        if(abs(distanceAtJumpX1-distanceAtJumpX2)==0):\n",
    "            return \"YES\"\n",
    "    return \"NO\"\n",
    "\n",
    "\n",
    "if __name__ == '__main__':\n",
    "    fptr = open(os.environ['OUTPUT_PATH'], 'w')\n",
    "\n",
    "    first_multiple_input = input().rstrip().split()\n",
    "\n",
    "    x1 = int(first_multiple_input[0])\n",
    "\n",
    "    v1 = int(first_multiple_input[1])\n",
    "\n",
    "    x2 = int(first_multiple_input[2])\n",
    "\n",
    "    v2 = int(first_multiple_input[3])\n",
    "\n",
    "    result = kangaroo(x1, v1, x2, v2)\n",
    "\n",
    "    fptr.write(result + '\\n')\n",
    "\n",
    "    fptr.close()\n"
   ]
  },
  {
   "cell_type": "markdown",
   "id": "5950be48",
   "metadata": {},
   "source": [
    "#### Viral Advertising"
   ]
  },
  {
   "cell_type": "code",
   "execution_count": null,
   "id": "d4770689",
   "metadata": {},
   "outputs": [],
   "source": [
    "#!/bin/python3\n",
    "\n",
    "import math\n",
    "import os\n",
    "import random\n",
    "import re\n",
    "import sys\n",
    "\n",
    "#\n",
    "# Complete the 'viralAdvertising' function below.\n",
    "#\n",
    "# The function is expected to return an INTEGER.\n",
    "# The function accepts INTEGER n as parameter.\n",
    "#\n",
    "\n",
    "def viralAdvertising(n):\n",
    "    numberOfPeopleThatLikedIt=5//2\n",
    "    shares = 5\n",
    "    for i in range(1,n):\n",
    "        shares = (shares//2)*3\n",
    "        numberOfPeopleThatLikedIt += (shares//2)\n",
    "        print(numberOfPeopleThatLikedIt)\n",
    "    return numberOfPeopleThatLikedIt\n",
    "\n",
    "if __name__ == '__main__':\n",
    "    fptr = open(os.environ['OUTPUT_PATH'], 'w')\n",
    "\n",
    "    n = int(input().strip())\n",
    "\n",
    "    result = viralAdvertising(n)\n",
    "\n",
    "    fptr.write(str(result) + '\\n')\n",
    "\n",
    "    fptr.close()\n"
   ]
  },
  {
   "cell_type": "markdown",
   "id": "e9da18a6",
   "metadata": {},
   "source": [
    "#### Recursive Digit Sum"
   ]
  },
  {
   "cell_type": "code",
   "execution_count": null,
   "id": "f38c0e11",
   "metadata": {},
   "outputs": [],
   "source": [
    "#!/bin/python3\n",
    "\n",
    "import math\n",
    "import os\n",
    "import random\n",
    "import re\n",
    "import sys\n",
    "\n",
    "#\n",
    "# Complete the 'superDigit' function below.\n",
    "#\n",
    "# The function is expected to return an INTEGER.\n",
    "# The function accepts following parameters:\n",
    "#  1. STRING n\n",
    "#  2. INTEGER k\n",
    "#\n",
    "\n",
    "def superDigit(n, k):\n",
    "    if(len(n)<2):\n",
    "        return n\n",
    "    else:\n",
    "        newN= str(sum([int(c) for c in n])*k)\n",
    "        return superDigit(newN, 1)\n",
    "\n",
    "if __name__ == '__main__':\n",
    "    fptr = open(os.environ['OUTPUT_PATH'], 'w')\n",
    "\n",
    "    first_multiple_input = input().rstrip().split()\n",
    "\n",
    "    n = first_multiple_input[0]\n",
    "\n",
    "    k = int(first_multiple_input[1])\n",
    "\n",
    "    result = superDigit(n, k)\n",
    "\n",
    "    fptr.write(str(result) + '\\n')\n",
    "\n",
    "    fptr.close()\n"
   ]
  },
  {
   "cell_type": "markdown",
   "id": "37d4bfa1",
   "metadata": {},
   "source": [
    "#### Recursive Digit Sum"
   ]
  },
  {
   "cell_type": "code",
   "execution_count": null,
   "id": "ad9d3cc1",
   "metadata": {},
   "outputs": [],
   "source": [
    "#!/bin/python3\n",
    "\n",
    "import math\n",
    "import os\n",
    "import random\n",
    "import re\n",
    "import sys\n",
    "\n",
    "#\n",
    "# Complete the 'superDigit' function below.\n",
    "#\n",
    "# The function is expected to return an INTEGER.\n",
    "# The function accepts following parameters:\n",
    "#  1. STRING n\n",
    "#  2. INTEGER k\n",
    "#\n",
    "\n",
    "def superDigit(n, k):\n",
    "    if(len(n)<2):\n",
    "        return n\n",
    "    else:\n",
    "        newN= str(sum([int(c) for c in n])*k)\n",
    "        return superDigit(newN, 1)\n",
    "\n",
    "if __name__ == '__main__':\n",
    "    fptr = open(os.environ['OUTPUT_PATH'], 'w')\n",
    "\n",
    "    first_multiple_input = input().rstrip().split()\n",
    "\n",
    "    n = first_multiple_input[0]\n",
    "\n",
    "    k = int(first_multiple_input[1])\n",
    "\n",
    "    result = superDigit(n, k)\n",
    "\n",
    "    fptr.write(str(result) + '\\n')\n",
    "\n",
    "    fptr.close()\n"
   ]
  },
  {
   "cell_type": "markdown",
   "id": "20531cc8",
   "metadata": {},
   "source": [
    "#### Insertion Sort - Part 2"
   ]
  },
  {
   "cell_type": "code",
   "execution_count": null,
   "id": "6c76db4e",
   "metadata": {},
   "outputs": [],
   "source": [
    "#!/bin/python3\n",
    "\n",
    "import math\n",
    "import os\n",
    "import random\n",
    "import re\n",
    "import sys\n",
    "\n",
    "#\n",
    "# Complete the 'insertionSort2' function below.\n",
    "#\n",
    "# The function accepts following parameters:\n",
    "#  1. INTEGER n\n",
    "#  2. INTEGER_ARRAY arr\n",
    "#\n",
    "\n",
    "def insertionSort2(n, arr):\n",
    "    for i in range(1,len(arr)):\n",
    "        temp=arr[i]\n",
    "        j=i-1\n",
    "        while j>=0 and temp<arr[j]:\n",
    "            arr[j+1]=arr[j]\n",
    "            j=j-1\n",
    "        arr[j+1]=temp \n",
    "        print(*arr)\n",
    "            \n",
    "if __name__ == '__main__':\n",
    "    n = int(input().strip())\n",
    "\n",
    "    arr = list(map(int, input().rstrip().split()))\n",
    "\n",
    "    insertionSort2(n, arr)\n"
   ]
  },
  {
   "cell_type": "markdown",
   "id": "23a11182",
   "metadata": {},
   "source": [
    "#### Insertion Sort - Part 1"
   ]
  },
  {
   "cell_type": "code",
   "execution_count": null,
   "id": "69f33e20",
   "metadata": {},
   "outputs": [],
   "source": [
    "#!/bin/python3\n",
    "\n",
    "import math\n",
    "import os\n",
    "import random\n",
    "import re\n",
    "import sys\n",
    "\n",
    "#\n",
    "# Complete the 'insertionSort1' function below.\n",
    "#\n",
    "# The function accepts following parameters:\n",
    "#  1. INTEGER n\n",
    "#  2. INTEGER_ARRAY arr\n",
    "#\n",
    "\n",
    "def insertionSort1(n, arr):\n",
    "    key = arr[n-1]\n",
    "    i = n-1\n",
    "    while i-1 >= 0 and  key < arr[i-1]:\n",
    "        arr[i] = arr[i-1]\n",
    "        [print(j, end = ' ') for j in arr]\n",
    "        i -= 1\n",
    "        print()\n",
    "    arr[i] = key\n",
    "    [print(j, end=' ') for j in arr]\n",
    "\n",
    "if __name__ == '__main__':\n",
    "    n = int(input().strip())\n",
    "\n",
    "    arr = list(map(int, input().rstrip().split()))\n",
    "\n",
    "    insertionSort1(n, arr)\n"
   ]
  }
 ],
 "metadata": {},
 "nbformat": 4,
 "nbformat_minor": 5
}
